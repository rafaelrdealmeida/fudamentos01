{
  "nbformat": 4,
  "nbformat_minor": 0,
  "metadata": {
    "colab": {
      "provenance": [],
      "toc_visible": true,
      "authorship_tag": "ABX9TyMtQbdwnoQRW1uUZh6dtsWb",
      "include_colab_link": true
    },
    "kernelspec": {
      "name": "python3",
      "display_name": "Python 3"
    },
    "language_info": {
      "name": "python"
    }
  },
  "cells": [
    {
      "cell_type": "markdown",
      "metadata": {
        "id": "view-in-github",
        "colab_type": "text"
      },
      "source": [
        "<a href=\"https://colab.research.google.com/github/rafaelrdealmeida/fudamentos01/blob/main/fundamentos01_terca.ipynb\" target=\"_parent\"><img src=\"https://colab.research.google.com/assets/colab-badge.svg\" alt=\"Open In Colab\"/></a>"
      ]
    },
    {
      "cell_type": "markdown",
      "source": [
        "## Mini-curso de Fundamento de Análise de dados (terça)"
      ],
      "metadata": {
        "id": "LKRijRqZ1tLP"
      }
    },
    {
      "cell_type": "code",
      "execution_count": 10,
      "metadata": {
        "colab": {
          "base_uri": "https://localhost:8080/"
        },
        "id": "QqosArFa0vDQ",
        "outputId": "aa6e42eb-4af6-4bc2-fc88-13f79056909e"
      },
      "outputs": [
        {
          "output_type": "stream",
          "name": "stdout",
          "text": [
            "olá mundo\n",
            "<class 'str'>\n",
            "<class 'str'>\n",
            "primeiro dia do mini-curso\n"
          ]
        }
      ],
      "source": [
        "# print(), type(), input()\n",
        "print(\"olá mundo\")\n",
        "print(type(\"olá mundo\"))\n",
        "print(type(\"100.90\"))\n",
        "\n",
        "# tipos dados: string, numero (inteiro, flot)\n",
        "\n",
        "palavra = \"primeiro dia do mini-curso\"\n",
        "print(palavra)\n",
        "\n"
      ]
    }
  ]
}